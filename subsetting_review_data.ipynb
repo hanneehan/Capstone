{
 "cells": [
  {
   "cell_type": "markdown",
   "id": "60616861",
   "metadata": {},
   "source": [
    "### Subsetting review data\n",
    "\n",
    "The review dataset is huge (5.34G). For preliminary analysis, extracting all other variables except review text and create a new dataset and pickle it. Extracting is done by line-by-line reading the data to prevent computer from crashing. New subsetted data is saved via joblib.dump."
   ]
  },
  {
   "cell_type": "code",
   "execution_count": 34,
   "id": "2e4a8ce2",
   "metadata": {},
   "outputs": [],
   "source": [
    "import pandas as pd\n",
    "import numpy as np\n",
    "import json\n",
    "import joblib\n",
    "import time\n",
    "import matplotlib.pyplot as plt"
   ]
  },
  {
   "cell_type": "code",
   "execution_count": 28,
   "id": "6e12ea59",
   "metadata": {},
   "outputs": [
    {
     "data": {
      "text/plain": [
       "22.954963207244873"
      ]
     },
     "execution_count": 28,
     "metadata": {},
     "output_type": "execute_result"
    }
   ],
   "source": [
    "# The reading of data is timed for experiment. \n",
    "start_time = time.time()\n",
    "\n",
    "# Create empty lists to store variables of original dataset\n",
    "r_id = []\n",
    "b_id = []\n",
    "u_id = []\n",
    "star = []\n",
    "useful = []\n",
    "funny = []\n",
    "cool = []\n",
    "date = []\n",
    "\n",
    "\n",
    "#r = 0 togerther with the muted code below was used for experimenting data reading time\n",
    "with open(\"yelp_academic_dataset_review.json\", \"r\") as f:\n",
    "    for line in f.readlines():\n",
    "        review = json.loads(line) # current line of the original data that has been read\n",
    "        r_id.append(review['review_id'])\n",
    "        b_id.append(review['business_id'])\n",
    "        u_id.append(review['user_id'])\n",
    "        star.append(review['stars'])\n",
    "        useful.append(review['useful'])\n",
    "        funny.append(review['funny'])\n",
    "        cool.append(review['cool'])\n",
    "        date.append(review['date'])\n",
    "        \n",
    "        \n",
    "        #r += 1\n",
    "        #if r > 100000:\n",
    "            #break\n",
    "\n",
    "end_time = time.time()\n",
    "end_time - start_time  # Reading the entire dataset except text variable took 23s."
   ]
  },
  {
   "cell_type": "code",
   "execution_count": 29,
   "id": "2fc4832c",
   "metadata": {},
   "outputs": [
    {
     "name": "stdout",
     "output_type": "stream",
     "text": [
      "(6990280, 8)\n"
     ]
    },
    {
     "data": {
      "text/html": [
       "<div>\n",
       "<style scoped>\n",
       "    .dataframe tbody tr th:only-of-type {\n",
       "        vertical-align: middle;\n",
       "    }\n",
       "\n",
       "    .dataframe tbody tr th {\n",
       "        vertical-align: top;\n",
       "    }\n",
       "\n",
       "    .dataframe thead th {\n",
       "        text-align: right;\n",
       "    }\n",
       "</style>\n",
       "<table border=\"1\" class=\"dataframe\">\n",
       "  <thead>\n",
       "    <tr style=\"text-align: right;\">\n",
       "      <th></th>\n",
       "      <th>review_id</th>\n",
       "      <th>user_id</th>\n",
       "      <th>business_id</th>\n",
       "      <th>stars</th>\n",
       "      <th>useful</th>\n",
       "      <th>funny</th>\n",
       "      <th>cool</th>\n",
       "      <th>date</th>\n",
       "    </tr>\n",
       "  </thead>\n",
       "  <tbody>\n",
       "    <tr>\n",
       "      <th>0</th>\n",
       "      <td>KU_O5udG6zpxOg-VcAEodg</td>\n",
       "      <td>mh_-eMZ6K5RLWhZyISBhwA</td>\n",
       "      <td>XQfwVwDr-v0ZS3_CbbE5Xw</td>\n",
       "      <td>3.0</td>\n",
       "      <td>0</td>\n",
       "      <td>0</td>\n",
       "      <td>0</td>\n",
       "      <td>2018-07-07 22:09:11</td>\n",
       "    </tr>\n",
       "    <tr>\n",
       "      <th>1</th>\n",
       "      <td>BiTunyQ73aT9WBnpR9DZGw</td>\n",
       "      <td>OyoGAe7OKpv6SyGZT5g77Q</td>\n",
       "      <td>7ATYjTIgM3jUlt4UM3IypQ</td>\n",
       "      <td>5.0</td>\n",
       "      <td>1</td>\n",
       "      <td>0</td>\n",
       "      <td>1</td>\n",
       "      <td>2012-01-03 15:28:18</td>\n",
       "    </tr>\n",
       "    <tr>\n",
       "      <th>2</th>\n",
       "      <td>saUsX_uimxRlCVr67Z4Jig</td>\n",
       "      <td>8g_iMtfSiwikVnbP2etR0A</td>\n",
       "      <td>YjUWPpI6HXG530lwP-fb2A</td>\n",
       "      <td>3.0</td>\n",
       "      <td>0</td>\n",
       "      <td>0</td>\n",
       "      <td>0</td>\n",
       "      <td>2014-02-05 20:30:30</td>\n",
       "    </tr>\n",
       "    <tr>\n",
       "      <th>3</th>\n",
       "      <td>AqPFMleE6RsU23_auESxiA</td>\n",
       "      <td>_7bHUi9Uuf5__HHc_Q8guQ</td>\n",
       "      <td>kxX2SOes4o-D3ZQBkiMRfA</td>\n",
       "      <td>5.0</td>\n",
       "      <td>1</td>\n",
       "      <td>0</td>\n",
       "      <td>1</td>\n",
       "      <td>2015-01-04 00:01:03</td>\n",
       "    </tr>\n",
       "    <tr>\n",
       "      <th>4</th>\n",
       "      <td>Sx8TMOWLNuJBWer-0pcmoA</td>\n",
       "      <td>bcjbaE6dDog4jkNY91ncLQ</td>\n",
       "      <td>e4Vwtrqf-wpJfwesgvdgxQ</td>\n",
       "      <td>4.0</td>\n",
       "      <td>1</td>\n",
       "      <td>0</td>\n",
       "      <td>1</td>\n",
       "      <td>2017-01-14 20:54:15</td>\n",
       "    </tr>\n",
       "  </tbody>\n",
       "</table>\n",
       "</div>"
      ],
      "text/plain": [
       "                review_id                 user_id             business_id  \\\n",
       "0  KU_O5udG6zpxOg-VcAEodg  mh_-eMZ6K5RLWhZyISBhwA  XQfwVwDr-v0ZS3_CbbE5Xw   \n",
       "1  BiTunyQ73aT9WBnpR9DZGw  OyoGAe7OKpv6SyGZT5g77Q  7ATYjTIgM3jUlt4UM3IypQ   \n",
       "2  saUsX_uimxRlCVr67Z4Jig  8g_iMtfSiwikVnbP2etR0A  YjUWPpI6HXG530lwP-fb2A   \n",
       "3  AqPFMleE6RsU23_auESxiA  _7bHUi9Uuf5__HHc_Q8guQ  kxX2SOes4o-D3ZQBkiMRfA   \n",
       "4  Sx8TMOWLNuJBWer-0pcmoA  bcjbaE6dDog4jkNY91ncLQ  e4Vwtrqf-wpJfwesgvdgxQ   \n",
       "\n",
       "   stars  useful  funny  cool                 date  \n",
       "0    3.0       0      0     0  2018-07-07 22:09:11  \n",
       "1    5.0       1      0     1  2012-01-03 15:28:18  \n",
       "2    3.0       0      0     0  2014-02-05 20:30:30  \n",
       "3    5.0       1      0     1  2015-01-04 00:01:03  \n",
       "4    4.0       1      0     1  2017-01-14 20:54:15  "
      ]
     },
     "execution_count": 29,
     "metadata": {},
     "output_type": "execute_result"
    }
   ],
   "source": [
    "# Create dataframe using the lists of variables\n",
    "df_review = pd.DataFrame(list(zip(r_id, u_id, b_id, star, useful, funny, cool, date)), \n",
    "                        columns = ['review_id', 'user_id', 'business_id', 'stars', 'useful', 'funny', 'cool', 'date'])\n",
    "print(df_review.shape) # nrow = 6990280, ncol = 8\n",
    "df_review.head()"
   ]
  },
  {
   "cell_type": "code",
   "execution_count": 30,
   "id": "9f4afea1",
   "metadata": {},
   "outputs": [
    {
     "data": {
      "text/plain": [
       "['review_no_text.py']"
      ]
     },
     "execution_count": 30,
     "metadata": {},
     "output_type": "execute_result"
    }
   ],
   "source": [
    "# Dump the dataframe as 'review_no_text.py' in the local working directory\n",
    "joblib.dump(df_review, 'review_no_text.py') # It's still pretty big, taking up 1.1G."
   ]
  }
 ],
 "metadata": {
  "kernelspec": {
   "display_name": "Python 3 (ipykernel)",
   "language": "python",
   "name": "python3"
  },
  "language_info": {
   "codemirror_mode": {
    "name": "ipython",
    "version": 3
   },
   "file_extension": ".py",
   "mimetype": "text/x-python",
   "name": "python",
   "nbconvert_exporter": "python",
   "pygments_lexer": "ipython3",
   "version": "3.10.9"
  }
 },
 "nbformat": 4,
 "nbformat_minor": 5
}
