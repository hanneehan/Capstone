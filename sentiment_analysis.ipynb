{
 "cells": [
  {
   "cell_type": "code",
   "execution_count": 83,
   "id": "64be666a",
   "metadata": {},
   "outputs": [],
   "source": [
    "import pandas as pd\n",
    "import numpy as np\n",
    "import joblib"
   ]
  },
  {
   "cell_type": "code",
   "execution_count": null,
   "id": "582a733c",
   "metadata": {},
   "outputs": [],
   "source": [
    "# import data\n",
    "df_viet = joblib.loac('sample_review.py') \n",
    "df_viet.head()"
   ]
  },
  {
   "cell_type": "code",
   "execution_count": 41,
   "id": "99326942",
   "metadata": {},
   "outputs": [
    {
     "name": "stdout",
     "output_type": "stream",
     "text": [
      "Collecting vaderSentiment\n",
      "  Downloading vaderSentiment-3.3.2-py2.py3-none-any.whl (125 kB)\n",
      "\u001b[2K     \u001b[90m━━━━━━━━━━━━━━━━━━━━━━━━━━━━━━━━━━━━━━━\u001b[0m \u001b[32m126.0/126.0 kB\u001b[0m \u001b[31m1.4 MB/s\u001b[0m eta \u001b[36m0:00:00\u001b[0m00:01\u001b[0m00:01\u001b[0m\n",
      "\u001b[?25hRequirement already satisfied: requests in /Users/ying/anaconda3/lib/python3.10/site-packages (from vaderSentiment) (2.28.1)\n",
      "Requirement already satisfied: urllib3<1.27,>=1.21.1 in /Users/ying/anaconda3/lib/python3.10/site-packages (from requests->vaderSentiment) (1.26.14)\n",
      "Requirement already satisfied: certifi>=2017.4.17 in /Users/ying/anaconda3/lib/python3.10/site-packages (from requests->vaderSentiment) (2022.12.7)\n",
      "Requirement already satisfied: idna<4,>=2.5 in /Users/ying/anaconda3/lib/python3.10/site-packages (from requests->vaderSentiment) (3.4)\n",
      "Requirement already satisfied: charset-normalizer<3,>=2 in /Users/ying/anaconda3/lib/python3.10/site-packages (from requests->vaderSentiment) (2.0.4)\n",
      "Installing collected packages: vaderSentiment\n",
      "Successfully installed vaderSentiment-3.3.2\n",
      "Note: you may need to restart the kernel to use updated packages.\n",
      "Sentiment of text 1: {'neg': 0.0, 'neu': 0.73, 'pos': 0.27, 'compound': 0.5719}\n",
      "Sentiment of text 2: {'neg': 0.508, 'neu': 0.492, 'pos': 0.0, 'compound': -0.4767}\n"
     ]
    }
   ],
   "source": [
    "%pip install vaderSentiment\n",
    "from vaderSentiment.vaderSentiment import SentimentIntensityAnalyzer\n",
    "sentiment = SentimentIntensityAnalyzer()\n",
    "\n",
    "# test the Vader sentiment analysis function\n",
    "text_1 = \"The book was a perfect balance between wrtiting style and plot.\"\n",
    "text_2 =  \"The pizza tastes terrible.\"\n",
    "sent_1 = sentiment.polarity_scores(text_1)\n",
    "sent_2 = sentiment.polarity_scores(text_2)\n",
    "print(\"Sentiment of text 1:\", sent_1)\n",
    "print(\"Sentiment of text 2:\", sent_2)\n",
    "    "
   ]
  },
  {
   "cell_type": "code",
   "execution_count": 61,
   "id": "d13a4ec4",
   "metadata": {},
   "outputs": [],
   "source": [
    "# Apply sentiment analysis and append negative, positive, neutral and compound scores to the review dataset\n",
    "neg = []\n",
    "pos = []\n",
    "neu = []\n",
    "compound = []\n",
    "for i in range(len(df_viet['text'])):\n",
    "    txt = df_viet['text'].values\n",
    "    neg.append(sentiment.polarity_scores(txt[i])['neg'])\n",
    "    pos.append(sentiment.polarity_scores(txt[i])['pos'])\n",
    "    neu.append(sentiment.polarity_scores(txt[i])['neu'])\n",
    "    compound.append(sentiment.polarity_scores(txt[i])['compound'])\n",
    "\n",
    "df_viet['neg'] = neg\n",
    "df_viet['pos'] = pos\n",
    "df_viet['neu'] = neu\n",
    "df_viet['sentiment_score'] = compound"
   ]
  },
  {
   "cell_type": "code",
   "execution_count": 76,
   "id": "5762f911",
   "metadata": {},
   "outputs": [
    {
     "data": {
      "text/html": [
       "<div>\n",
       "<style scoped>\n",
       "    .dataframe tbody tr th:only-of-type {\n",
       "        vertical-align: middle;\n",
       "    }\n",
       "\n",
       "    .dataframe tbody tr th {\n",
       "        vertical-align: top;\n",
       "    }\n",
       "\n",
       "    .dataframe thead th {\n",
       "        text-align: right;\n",
       "    }\n",
       "</style>\n",
       "<table border=\"1\" class=\"dataframe\">\n",
       "  <thead>\n",
       "    <tr style=\"text-align: right;\">\n",
       "      <th></th>\n",
       "      <th>review_id</th>\n",
       "      <th>user_id</th>\n",
       "      <th>business_id</th>\n",
       "      <th>stars</th>\n",
       "      <th>useful</th>\n",
       "      <th>funny</th>\n",
       "      <th>cool</th>\n",
       "      <th>date</th>\n",
       "      <th>temp_yn</th>\n",
       "      <th>text</th>\n",
       "      <th>neg</th>\n",
       "      <th>pos</th>\n",
       "      <th>neu</th>\n",
       "      <th>sentiment_score</th>\n",
       "      <th>score2</th>\n",
       "    </tr>\n",
       "  </thead>\n",
       "  <tbody>\n",
       "    <tr>\n",
       "      <th>68</th>\n",
       "      <td>fGYcFOHfQL4stYPdD3J47g</td>\n",
       "      <td>CgyCtH9CbLO7J_uO3cL7OA</td>\n",
       "      <td>PzhPMkaNYiKDTHoTG0r8rw</td>\n",
       "      <td>4.0</td>\n",
       "      <td>0</td>\n",
       "      <td>0</td>\n",
       "      <td>0</td>\n",
       "      <td>2016-09-18 22:43:18</td>\n",
       "      <td>1</td>\n",
       "      <td>After 3 weeks of working in the area I finally...</td>\n",
       "      <td>0.128</td>\n",
       "      <td>0.255</td>\n",
       "      <td>0.617</td>\n",
       "      <td>0.7629</td>\n",
       "      <td>0.744</td>\n",
       "    </tr>\n",
       "    <tr>\n",
       "      <th>3913</th>\n",
       "      <td>EwkeL8nm4vug3htgi0ZbsQ</td>\n",
       "      <td>_exJkgTPirjUjEUbQju2ow</td>\n",
       "      <td>PzhPMkaNYiKDTHoTG0r8rw</td>\n",
       "      <td>5.0</td>\n",
       "      <td>0</td>\n",
       "      <td>0</td>\n",
       "      <td>0</td>\n",
       "      <td>2017-04-19 12:34:20</td>\n",
       "      <td>1</td>\n",
       "      <td>Soup was fresh spicy and delicious! Wish it wa...</td>\n",
       "      <td>0.000</td>\n",
       "      <td>0.340</td>\n",
       "      <td>0.660</td>\n",
       "      <td>0.8513</td>\n",
       "      <td>1.000</td>\n",
       "    </tr>\n",
       "    <tr>\n",
       "      <th>4148</th>\n",
       "      <td>KRowK5RRz8IF2auM-8ROSw</td>\n",
       "      <td>zEuTnMbf5IEQ1TiEGWHVQg</td>\n",
       "      <td>PzhPMkaNYiKDTHoTG0r8rw</td>\n",
       "      <td>3.0</td>\n",
       "      <td>0</td>\n",
       "      <td>0</td>\n",
       "      <td>0</td>\n",
       "      <td>2018-09-03 02:20:28</td>\n",
       "      <td>1</td>\n",
       "      <td>A pho place that checks all the boxes but does...</td>\n",
       "      <td>0.071</td>\n",
       "      <td>0.147</td>\n",
       "      <td>0.783</td>\n",
       "      <td>0.8958</td>\n",
       "      <td>0.859</td>\n",
       "    </tr>\n",
       "    <tr>\n",
       "      <th>5487</th>\n",
       "      <td>66KUpAcnKRA3BB_BNSgjpw</td>\n",
       "      <td>X3APf4FSiOYg4BB6sdhJPw</td>\n",
       "      <td>PzhPMkaNYiKDTHoTG0r8rw</td>\n",
       "      <td>5.0</td>\n",
       "      <td>1</td>\n",
       "      <td>0</td>\n",
       "      <td>0</td>\n",
       "      <td>2018-07-07 22:45:43</td>\n",
       "      <td>1</td>\n",
       "      <td>Steamed buns for the adults. Beef &amp; Broccoli f...</td>\n",
       "      <td>0.000</td>\n",
       "      <td>0.270</td>\n",
       "      <td>0.730</td>\n",
       "      <td>0.8750</td>\n",
       "      <td>1.000</td>\n",
       "    </tr>\n",
       "    <tr>\n",
       "      <th>6288</th>\n",
       "      <td>fFFHTE0tY1OFqV50Iiy92Q</td>\n",
       "      <td>CQW0mI3IXtOeVv5TNDuuhw</td>\n",
       "      <td>PzhPMkaNYiKDTHoTG0r8rw</td>\n",
       "      <td>5.0</td>\n",
       "      <td>0</td>\n",
       "      <td>0</td>\n",
       "      <td>0</td>\n",
       "      <td>2015-11-06 00:36:28</td>\n",
       "      <td>1</td>\n",
       "      <td>The spicy beef pho is wonderful. The broth is ...</td>\n",
       "      <td>0.000</td>\n",
       "      <td>0.467</td>\n",
       "      <td>0.533</td>\n",
       "      <td>0.9497</td>\n",
       "      <td>1.000</td>\n",
       "    </tr>\n",
       "  </tbody>\n",
       "</table>\n",
       "</div>"
      ],
      "text/plain": [
       "                   review_id                 user_id             business_id  \\\n",
       "68    fGYcFOHfQL4stYPdD3J47g  CgyCtH9CbLO7J_uO3cL7OA  PzhPMkaNYiKDTHoTG0r8rw   \n",
       "3913  EwkeL8nm4vug3htgi0ZbsQ  _exJkgTPirjUjEUbQju2ow  PzhPMkaNYiKDTHoTG0r8rw   \n",
       "4148  KRowK5RRz8IF2auM-8ROSw  zEuTnMbf5IEQ1TiEGWHVQg  PzhPMkaNYiKDTHoTG0r8rw   \n",
       "5487  66KUpAcnKRA3BB_BNSgjpw  X3APf4FSiOYg4BB6sdhJPw  PzhPMkaNYiKDTHoTG0r8rw   \n",
       "6288  fFFHTE0tY1OFqV50Iiy92Q  CQW0mI3IXtOeVv5TNDuuhw  PzhPMkaNYiKDTHoTG0r8rw   \n",
       "\n",
       "      stars  useful  funny  cool                 date  temp_yn  \\\n",
       "68      4.0       0      0     0  2016-09-18 22:43:18        1   \n",
       "3913    5.0       0      0     0  2017-04-19 12:34:20        1   \n",
       "4148    3.0       0      0     0  2018-09-03 02:20:28        1   \n",
       "5487    5.0       1      0     0  2018-07-07 22:45:43        1   \n",
       "6288    5.0       0      0     0  2015-11-06 00:36:28        1   \n",
       "\n",
       "                                                   text    neg    pos    neu  \\\n",
       "68    After 3 weeks of working in the area I finally...  0.128  0.255  0.617   \n",
       "3913  Soup was fresh spicy and delicious! Wish it wa...  0.000  0.340  0.660   \n",
       "4148  A pho place that checks all the boxes but does...  0.071  0.147  0.783   \n",
       "5487  Steamed buns for the adults. Beef & Broccoli f...  0.000  0.270  0.730   \n",
       "6288  The spicy beef pho is wonderful. The broth is ...  0.000  0.467  0.533   \n",
       "\n",
       "      sentiment_score  score2  \n",
       "68             0.7629   0.744  \n",
       "3913           0.8513   1.000  \n",
       "4148           0.8958   0.859  \n",
       "5487           0.8750   1.000  \n",
       "6288           0.9497   1.000  "
      ]
     },
     "execution_count": 76,
     "metadata": {},
     "output_type": "execute_result"
    }
   ],
   "source": [
    "# sanity check\n",
    "df_viet.head()"
   ]
  },
  {
   "cell_type": "code",
   "execution_count": 77,
   "id": "3124e04e",
   "metadata": {
    "scrolled": true
   },
   "outputs": [
    {
     "data": {
      "text/plain": [
       "count    3696.000000\n",
       "mean        0.038285\n",
       "std         0.048478\n",
       "min         0.000000\n",
       "25%         0.000000\n",
       "50%         0.024000\n",
       "75%         0.058000\n",
       "max         0.383000\n",
       "Name: neg, dtype: float64"
      ]
     },
     "execution_count": 77,
     "metadata": {},
     "output_type": "execute_result"
    }
   ],
   "source": [
    "# Get summary statistics of sentiment relevant scores\n",
    "df_viet[['neg', 'pos', 'neu', 'sentiment_score']].describe()"
   ]
  },
  {
   "cell_type": "markdown",
   "id": "5474bb7f",
   "metadata": {},
   "source": [
    "#### Compare the distribution of sentiment score (compound score) and five-star ratings"
   ]
  },
  {
   "cell_type": "code",
   "execution_count": 65,
   "id": "35a7472f",
   "metadata": {
    "scrolled": true
   },
   "outputs": [
    {
     "data": {
      "image/png": "[encoded data removed]",
      "text/plain": [
       "<Figure size 640x480 with 1 Axes>"
      ]
     },
     "metadata": {},
     "output_type": "display_data"
    }
   ],
   "source": [
    "plt.figure()\n",
    "plt.hist(df_viet['sentiment_score'], bins = 5)\n",
    "plt.show()"
   ]
  },
  {
   "cell_type": "code",
   "execution_count": 64,
   "id": "2a1d1490",
   "metadata": {
    "scrolled": true
   },
   "outputs": [
    {
     "data": {
      "image/png": "[encoded data removed]",
      "text/plain": [
       "<Figure size 640x480 with 1 Axes>"
      ]
     },
     "metadata": {},
     "output_type": "display_data"
    }
   ],
   "source": [
    "plt.figure()\n",
    "plt.hist(df_viet['stars'])\n",
    "plt.show()"
   ]
  },
  {
   "cell_type": "markdown",
   "id": "ed280936",
   "metadata": {},
   "source": [
    "#### Add another sentiment analysis packages that use more advanced models below. "
   ]
  },
  {
   "cell_type": "code",
   "execution_count": null,
   "id": "bd40753d",
   "metadata": {},
   "outputs": [],
   "source": [
    "%pip install -q transformers\n",
    "from transformers import pipeline\n",
    "sentiment_pipeline = pipeline(\"sentiment-analysis\")\n",
    "data = [\"I love you\", \"I hate you\"]\n",
    "sentiment_pipeline(data)"
   ]
  }
 ],
 "metadata": {
  "kernelspec": {
   "display_name": "Python 3 (ipykernel)",
   "language": "python",
   "name": "python3"
  },
  "language_info": {
   "codemirror_mode": {
    "name": "ipython",
    "version": 3
   },
   "file_extension": ".py",
   "mimetype": "text/x-python",
   "name": "python",
   "nbconvert_exporter": "python",
   "pygments_lexer": "ipython3",
   "version": "3.10.9"
  }
 },
 "nbformat": 4,
 "nbformat_minor": 5
}
