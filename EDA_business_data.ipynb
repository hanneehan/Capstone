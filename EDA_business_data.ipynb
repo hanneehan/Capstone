{
 "cells": [
  {
   "cell_type": "markdown",
   "id": "3616fcde",
   "metadata": {},
   "source": [
    "## Load the packages & data"
   ]
  },
  {
   "cell_type": "code",
   "execution_count": 34,
   "id": "4decee62",
   "metadata": {},
   "outputs": [],
   "source": [
    "import pandas as pd\n",
    "import numpy as np\n",
    "import joblib\n",
    "import matplotlib.pyplot as plt\n",
    "import seaborn as sns\n",
    "from scipy import stats\n",
    "import statsmodels.api as sm\n",
    "import statistics"
   ]
  },
  {
   "cell_type": "code",
   "execution_count": 11,
   "id": "3140ffce",
   "metadata": {},
   "outputs": [],
   "source": [
    "df_business = pd.read_json('yelp_academic_dataset_business.json', lines=True)\n",
    "df_checkin = pd.read_json('yelp_academic_dataset_checkin.json', lines=True)\n",
    "df_tip = pd.read_json('yelp_academic_dataset_tip.json', lines=True)\n",
    "# load user data from \n",
    "df_user = joblib.load('user_no_friend.py') \n",
    "df_review = joblib.load('review_no_text.py') "
   ]
  },
  {
   "cell_type": "markdown",
   "id": "c700b327",
   "metadata": {},
   "source": [
    "## Basic descriptives of variables in business dataset\n",
    "1. business by city/state\n",
    "2. distribution of stars\n",
    "3. distribution of review counts\n",
    "4. percentage of open/close\n",
    "5. a list of top 10 categories & its percentage"
   ]
  },
  {
   "cell_type": "code",
   "execution_count": 12,
   "id": "461b62cf",
   "metadata": {},
   "outputs": [
    {
     "data": {
      "text/html": [
       "<div>\n",
       "<style scoped>\n",
       "    .dataframe tbody tr th:only-of-type {\n",
       "        vertical-align: middle;\n",
       "    }\n",
       "\n",
       "    .dataframe tbody tr th {\n",
       "        vertical-align: top;\n",
       "    }\n",
       "\n",
       "    .dataframe thead th {\n",
       "        text-align: right;\n",
       "    }\n",
       "</style>\n",
       "<table border=\"1\" class=\"dataframe\">\n",
       "  <thead>\n",
       "    <tr style=\"text-align: right;\">\n",
       "      <th></th>\n",
       "      <th>business_id</th>\n",
       "      <th>name</th>\n",
       "      <th>address</th>\n",
       "      <th>city</th>\n",
       "      <th>state</th>\n",
       "      <th>postal_code</th>\n",
       "      <th>latitude</th>\n",
       "      <th>longitude</th>\n",
       "      <th>stars</th>\n",
       "      <th>review_count</th>\n",
       "      <th>is_open</th>\n",
       "      <th>attributes</th>\n",
       "      <th>categories</th>\n",
       "      <th>hours</th>\n",
       "    </tr>\n",
       "  </thead>\n",
       "  <tbody>\n",
       "    <tr>\n",
       "      <th>0</th>\n",
       "      <td>Pns2l4eNsfO8kk83dixA6A</td>\n",
       "      <td>Abby Rappoport, LAC, CMQ</td>\n",
       "      <td>1616 Chapala St, Ste 2</td>\n",
       "      <td>Santa Barbara</td>\n",
       "      <td>CA</td>\n",
       "      <td>93101</td>\n",
       "      <td>34.426679</td>\n",
       "      <td>-119.711197</td>\n",
       "      <td>5.0</td>\n",
       "      <td>7</td>\n",
       "      <td>0</td>\n",
       "      <td>{'ByAppointmentOnly': 'True'}</td>\n",
       "      <td>Doctors, Traditional Chinese Medicine, Naturop...</td>\n",
       "      <td>None</td>\n",
       "    </tr>\n",
       "    <tr>\n",
       "      <th>1</th>\n",
       "      <td>mpf3x-BjTdTEA3yCZrAYPw</td>\n",
       "      <td>The UPS Store</td>\n",
       "      <td>87 Grasso Plaza Shopping Center</td>\n",
       "      <td>Affton</td>\n",
       "      <td>MO</td>\n",
       "      <td>63123</td>\n",
       "      <td>38.551126</td>\n",
       "      <td>-90.335695</td>\n",
       "      <td>3.0</td>\n",
       "      <td>15</td>\n",
       "      <td>1</td>\n",
       "      <td>{'BusinessAcceptsCreditCards': 'True'}</td>\n",
       "      <td>Shipping Centers, Local Services, Notaries, Ma...</td>\n",
       "      <td>{'Monday': '0:0-0:0', 'Tuesday': '8:0-18:30', ...</td>\n",
       "    </tr>\n",
       "    <tr>\n",
       "      <th>2</th>\n",
       "      <td>tUFrWirKiKi_TAnsVWINQQ</td>\n",
       "      <td>Target</td>\n",
       "      <td>5255 E Broadway Blvd</td>\n",
       "      <td>Tucson</td>\n",
       "      <td>AZ</td>\n",
       "      <td>85711</td>\n",
       "      <td>32.223236</td>\n",
       "      <td>-110.880452</td>\n",
       "      <td>3.5</td>\n",
       "      <td>22</td>\n",
       "      <td>0</td>\n",
       "      <td>{'BikeParking': 'True', 'BusinessAcceptsCredit...</td>\n",
       "      <td>Department Stores, Shopping, Fashion, Home &amp; G...</td>\n",
       "      <td>{'Monday': '8:0-22:0', 'Tuesday': '8:0-22:0', ...</td>\n",
       "    </tr>\n",
       "    <tr>\n",
       "      <th>3</th>\n",
       "      <td>MTSW4McQd7CbVtyjqoe9mw</td>\n",
       "      <td>St Honore Pastries</td>\n",
       "      <td>935 Race St</td>\n",
       "      <td>Philadelphia</td>\n",
       "      <td>PA</td>\n",
       "      <td>19107</td>\n",
       "      <td>39.955505</td>\n",
       "      <td>-75.155564</td>\n",
       "      <td>4.0</td>\n",
       "      <td>80</td>\n",
       "      <td>1</td>\n",
       "      <td>{'RestaurantsDelivery': 'False', 'OutdoorSeati...</td>\n",
       "      <td>Restaurants, Food, Bubble Tea, Coffee &amp; Tea, B...</td>\n",
       "      <td>{'Monday': '7:0-20:0', 'Tuesday': '7:0-20:0', ...</td>\n",
       "    </tr>\n",
       "    <tr>\n",
       "      <th>4</th>\n",
       "      <td>mWMc6_wTdE0EUBKIGXDVfA</td>\n",
       "      <td>Perkiomen Valley Brewery</td>\n",
       "      <td>101 Walnut St</td>\n",
       "      <td>Green Lane</td>\n",
       "      <td>PA</td>\n",
       "      <td>18054</td>\n",
       "      <td>40.338183</td>\n",
       "      <td>-75.471659</td>\n",
       "      <td>4.5</td>\n",
       "      <td>13</td>\n",
       "      <td>1</td>\n",
       "      <td>{'BusinessAcceptsCreditCards': 'True', 'Wheelc...</td>\n",
       "      <td>Brewpubs, Breweries, Food</td>\n",
       "      <td>{'Wednesday': '14:0-22:0', 'Thursday': '16:0-2...</td>\n",
       "    </tr>\n",
       "  </tbody>\n",
       "</table>\n",
       "</div>"
      ],
      "text/plain": [
       "              business_id                      name  \\\n",
       "0  Pns2l4eNsfO8kk83dixA6A  Abby Rappoport, LAC, CMQ   \n",
       "1  mpf3x-BjTdTEA3yCZrAYPw             The UPS Store   \n",
       "2  tUFrWirKiKi_TAnsVWINQQ                    Target   \n",
       "3  MTSW4McQd7CbVtyjqoe9mw        St Honore Pastries   \n",
       "4  mWMc6_wTdE0EUBKIGXDVfA  Perkiomen Valley Brewery   \n",
       "\n",
       "                           address           city state postal_code  \\\n",
       "0           1616 Chapala St, Ste 2  Santa Barbara    CA       93101   \n",
       "1  87 Grasso Plaza Shopping Center         Affton    MO       63123   \n",
       "2             5255 E Broadway Blvd         Tucson    AZ       85711   \n",
       "3                      935 Race St   Philadelphia    PA       19107   \n",
       "4                    101 Walnut St     Green Lane    PA       18054   \n",
       "\n",
       "    latitude   longitude  stars  review_count  is_open  \\\n",
       "0  34.426679 -119.711197    5.0             7        0   \n",
       "1  38.551126  -90.335695    3.0            15        1   \n",
       "2  32.223236 -110.880452    3.5            22        0   \n",
       "3  39.955505  -75.155564    4.0            80        1   \n",
       "4  40.338183  -75.471659    4.5            13        1   \n",
       "\n",
       "                                          attributes  \\\n",
       "0                      {'ByAppointmentOnly': 'True'}   \n",
       "1             {'BusinessAcceptsCreditCards': 'True'}   \n",
       "2  {'BikeParking': 'True', 'BusinessAcceptsCredit...   \n",
       "3  {'RestaurantsDelivery': 'False', 'OutdoorSeati...   \n",
       "4  {'BusinessAcceptsCreditCards': 'True', 'Wheelc...   \n",
       "\n",
       "                                          categories  \\\n",
       "0  Doctors, Traditional Chinese Medicine, Naturop...   \n",
       "1  Shipping Centers, Local Services, Notaries, Ma...   \n",
       "2  Department Stores, Shopping, Fashion, Home & G...   \n",
       "3  Restaurants, Food, Bubble Tea, Coffee & Tea, B...   \n",
       "4                          Brewpubs, Breweries, Food   \n",
       "\n",
       "                                               hours  \n",
       "0                                               None  \n",
       "1  {'Monday': '0:0-0:0', 'Tuesday': '8:0-18:30', ...  \n",
       "2  {'Monday': '8:0-22:0', 'Tuesday': '8:0-22:0', ...  \n",
       "3  {'Monday': '7:0-20:0', 'Tuesday': '7:0-20:0', ...  \n",
       "4  {'Wednesday': '14:0-22:0', 'Thursday': '16:0-2...  "
      ]
     },
     "execution_count": 12,
     "metadata": {},
     "output_type": "execute_result"
    }
   ],
   "source": [
    "df_business.head()"
   ]
  },
  {
   "cell_type": "code",
   "execution_count": null,
   "id": "591946d6",
   "metadata": {},
   "outputs": [],
   "source": [
    "# NaN is easier to deal with. Covert None to NaN.\n",
    "df = df.fillna(value=np.nan)\n",
    "df.info()"
   ]
  },
  {
   "cell_type": "code",
   "execution_count": 26,
   "id": "f2b536e3",
   "metadata": {},
   "outputs": [
    {
     "data": {
      "text/plain": [
       "Philadelphia     9.690314\n",
       "Tucson           6.152475\n",
       "Tampa            6.019448\n",
       "Indianapolis     5.015099\n",
       "Nashville        4.636638\n",
       "New Orleans      4.129807\n",
       "Reno             3.947561\n",
       "Edmonton         3.361579\n",
       "Saint Louis      3.210594\n",
       "Santa Barbara    2.546792\n",
       "Name: city, dtype: float64"
      ]
     },
     "execution_count": 26,
     "metadata": {},
     "output_type": "execute_result"
    }
   ],
   "source": [
    "# basic 1: # business by city\n",
    "df_business['city'].value_counts()[:10]/len(df_business)*100"
   ]
  },
  {
   "cell_type": "code",
   "execution_count": 27,
   "id": "31b0061d",
   "metadata": {},
   "outputs": [
    {
     "data": {
      "text/plain": [
       "PA    22.640443\n",
       "FL    17.512937\n",
       "TN     8.018837\n",
       "IN     7.480744\n",
       "MO     7.258590\n",
       "LA     6.600774\n",
       "AZ     6.592793\n",
       "NJ     5.677570\n",
       "NV     5.131497\n",
       "AB     3.706783\n",
       "Name: state, dtype: float64"
      ]
     },
     "execution_count": 27,
     "metadata": {},
     "output_type": "execute_result"
    }
   ],
   "source": [
    "# basic 1: # business by state\n",
    "df_business['state'].value_counts()[:10]/len(df_business)*100"
   ]
  },
  {
   "cell_type": "code",
   "execution_count": 33,
   "id": "767085ce",
   "metadata": {},
   "outputs": [
    {
     "data": {
      "text/plain": [
       "0         5.0\n",
       "1         3.0\n",
       "2         3.5\n",
       "3         4.0\n",
       "4         4.5\n",
       "         ... \n",
       "150341    3.0\n",
       "150342    4.0\n",
       "150343    3.5\n",
       "150344    4.0\n",
       "150345    4.5\n",
       "Name: stars, Length: 150346, dtype: float64"
      ]
     },
     "execution_count": 33,
     "metadata": {},
     "output_type": "execute_result"
    }
   ],
   "source": [
    "df_business['stars']"
   ]
  },
  {
   "cell_type": "code",
   "execution_count": 35,
   "id": "a130f57f",
   "metadata": {},
   "outputs": [
    {
     "data": {
      "image/png": "[encoded data removed]",
      "text/plain": [
       "<Figure size 640x480 with 1 Axes>"
      ]
     },
     "metadata": {},
     "output_type": "display_data"
    },
    {
     "data": {
      "text/plain": [
       "4.0"
      ]
     },
     "execution_count": 35,
     "metadata": {},
     "output_type": "execute_result"
    }
   ],
   "source": [
    "# basic 2: distribution of stars\n",
    "plt.figure()\n",
    "plt.hist(df_business['stars'], bins = 10)\n",
    "plt.xlabel('Average Ratings') # The ratings are aggregated results but not strictly average. \n",
    "plt.ylabel('Frequency')\n",
    "plt.show()\n",
    "\n",
    "statistics.mode(df_business['stars']) # mode = 4"
   ]
  },
  {
   "cell_type": "markdown",
   "id": "a6ca98f2",
   "metadata": {},
   "source": [
    "## Findings:\n",
    "The distribution is skewed toward left and peaking at 4 star, meaning more higher rating. The ratings are aggregated results but not strictly average. Because ratings are in a incremental scale of 0.5 from 1-5."
   ]
  },
  {
   "cell_type": "code",
   "execution_count": 36,
   "id": "3349edf4",
   "metadata": {
    "scrolled": true
   },
   "outputs": [
    {
     "data": {
      "image/png": "[encoded data removed]",
      "text/plain": [
       "<Figure size 640x480 with 1 Axes>"
      ]
     },
     "metadata": {},
     "output_type": "display_data"
    }
   ],
   "source": [
    "# basic 3: distribution of review counts\n",
    "plt.figure()\n",
    "plt.hist(df_business['review_count'], bins = 10)\n",
    "plt.xlabel('Review Counts') # The ratings are aggregated results but not strictly average. \n",
    "plt.ylabel('Frequency')\n",
    "plt.show()\n",
    "# This plot is not informative => categorize the values into several bins"
   ]
  },
  {
   "cell_type": "code",
   "execution_count": 54,
   "id": "22e2631a",
   "metadata": {
    "scrolled": true
   },
   "outputs": [
    {
     "data": {
      "text/plain": [
       "5-10          28.004071\n",
       "11-20         22.363748\n",
       "21-50         20.585849\n",
       "51-100         9.477472\n",
       "101-500        8.747822\n",
       "501-1000       0.687082\n",
       "1001-10000     0.209517\n",
       "Name: label, dtype: float64"
      ]
     },
     "execution_count": 54,
     "metadata": {},
     "output_type": "execute_result"
    }
   ],
   "source": [
    "df_business['label'] = pd.cut(x=df_business['review_count'], bins=[5, 10, 20, 50, 100, 500, 1000, 10000],\n",
    "                     labels=[ '5-10', '11-20', '21-50', '51-100', '101-500', '501-1000', '1001-10000'])\n",
    "\n",
    "df_business['label'].value_counts()/len(label)*100"
   ]
  },
  {
   "cell_type": "code",
   "execution_count": 55,
   "id": "eab347b4",
   "metadata": {},
   "outputs": [
    {
     "data": {
      "text/plain": [
       "1    79.615021\n",
       "0    20.384979\n",
       "Name: is_open, dtype: float64"
      ]
     },
     "execution_count": 55,
     "metadata": {},
     "output_type": "execute_result"
    }
   ],
   "source": [
    "# basic 4: percentage of open/close\n",
    "df_business['is_open'].value_counts()/len(df_business)*100"
   ]
  },
  {
   "cell_type": "code",
   "execution_count": 56,
   "id": "97d5579f",
   "metadata": {},
   "outputs": [
    {
     "data": {
      "text/plain": [
       "is_open\n",
       "0    3.510082\n",
       "1    3.618908\n",
       "Name: stars, dtype: float64"
      ]
     },
     "execution_count": 56,
     "metadata": {},
     "output_type": "execute_result"
    }
   ],
   "source": [
    "# check the average ratings of open vs. close\n",
    "df_business.groupby('is_open')['stars'].mean()"
   ]
  },
  {
   "cell_type": "markdown",
   "id": "18e3f032",
   "metadata": {},
   "source": [
    "### For categories, count frequencies and get a list of most common categories"
   ]
  },
  {
   "cell_type": "code",
   "execution_count": 61,
   "id": "b95bc93b",
   "metadata": {
    "scrolled": false
   },
   "outputs": [
    {
     "data": {
      "text/plain": [
       "[('Restaurants', 52268),\n",
       " ('Food', 27781),\n",
       " ('Shopping', 24395),\n",
       " ('HomeServices', 14356),\n",
       " ('Beauty&Spas', 14292),\n",
       " ('Nightlife', 12281),\n",
       " ('Health&Medical', 11890),\n",
       " ('LocalServices', 11198),\n",
       " ('Bars', 11065),\n",
       " ('Automotive', 10773),\n",
       " ('EventPlanning&Services', 9895),\n",
       " ('Sandwiches', 8366),\n",
       " ('American(Traditional)', 8139),\n",
       " ('ActiveLife', 7687),\n",
       " ('Pizza', 7093),\n",
       " ('Coffee&Tea', 6703),\n",
       " ('FastFood', 6472),\n",
       " ('Breakfast&Brunch', 6239),\n",
       " ('American(New)', 6097),\n",
       " ('Hotels&Travel', 5857)]"
      ]
     },
     "execution_count": 61,
     "metadata": {},
     "output_type": "execute_result"
    }
   ],
   "source": [
    "category = []\n",
    "# write a loop as above, skip when it's NaN\n",
    "for i in range(len(df_business['categories'])):\n",
    "    #print(i)\n",
    "    new_add = df_business['categories'][i]\n",
    "    if pd.isna(new_add):\n",
    "        continue\n",
    "    else:\n",
    "        category.extend(new_add.split(\",\"))\n",
    "\n",
    "def remove(string):\n",
    "    return string.replace(\" \", \"\")\n",
    "\n",
    "category2 = []\n",
    "for item in category:\n",
    "    category2.append(remove(item))\n",
    "\n",
    "from collections import Counter\n",
    "category_list = Counter(category2).most_common()\n",
    "# Top 20 categories\n",
    "category_list[:20]"
   ]
  },
  {
   "cell_type": "code",
   "execution_count": null,
   "id": "3e98f4a3",
   "metadata": {},
   "outputs": [],
   "source": []
  },
  {
   "cell_type": "code",
   "execution_count": null,
   "id": "cdd92f23",
   "metadata": {},
   "outputs": [],
   "source": []
  }
 ],
 "metadata": {
  "kernelspec": {
   "display_name": "Python 3 (ipykernel)",
   "language": "python",
   "name": "python3"
  },
  "language_info": {
   "codemirror_mode": {
    "name": "ipython",
    "version": 3
   },
   "file_extension": ".py",
   "mimetype": "text/x-python",
   "name": "python",
   "nbconvert_exporter": "python",
   "pygments_lexer": "ipython3",
   "version": "3.10.9"
  }
 },
 "nbformat": 4,
 "nbformat_minor": 5
}
