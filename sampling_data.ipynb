{
 "cells": [
  {
   "cell_type": "markdown",
   "id": "0c3a8295",
   "metadata": {},
   "source": [
    "#### The raw dataset includes 6, 990, 280 reviews from 131, 930 business. For model building stage, I will focus only on reviews of Vietnamese restaurants. The goal of this notebook is to subset review data of Vietnamese restaurants. "
   ]
  },
  {
   "cell_type": "code",
   "execution_count": 1,
   "id": "393e0b98",
   "metadata": {},
   "outputs": [],
   "source": [
    "import pandas as pd\n",
    "import numpy as np\n",
    "import joblib\n",
    "import json"
   ]
  },
  {
   "cell_type": "code",
   "execution_count": 2,
   "id": "8d88d5d2",
   "metadata": {},
   "outputs": [],
   "source": [
    "# import data\n",
    "df_review = joblib.load('review_no_text.py') \n",
    "df_business = pd.read_json('yelp_academic_dataset_business.json', lines=True)"
   ]
  },
  {
   "cell_type": "code",
   "execution_count": 3,
   "id": "7b872614",
   "metadata": {
    "scrolled": true
   },
   "outputs": [
    {
     "name": "stdout",
     "output_type": "stream",
     "text": [
      "<class 'pandas.core.frame.DataFrame'>\n",
      "RangeIndex: 150346 entries, 0 to 150345\n",
      "Data columns (total 14 columns):\n",
      " #   Column        Non-Null Count   Dtype  \n",
      "---  ------        --------------   -----  \n",
      " 0   business_id   150346 non-null  object \n",
      " 1   name          150346 non-null  object \n",
      " 2   address       150346 non-null  object \n",
      " 3   city          150346 non-null  object \n",
      " 4   state         150346 non-null  object \n",
      " 5   postal_code   150346 non-null  object \n",
      " 6   latitude      150346 non-null  float64\n",
      " 7   longitude     150346 non-null  float64\n",
      " 8   stars         150346 non-null  float64\n",
      " 9   review_count  150346 non-null  int64  \n",
      " 10  is_open       150346 non-null  int64  \n",
      " 11  attributes    136602 non-null  object \n",
      " 12  categories    150243 non-null  object \n",
      " 13  hours         127123 non-null  object \n",
      "dtypes: float64(3), int64(2), object(9)\n",
      "memory usage: 16.1+ MB\n"
     ]
    }
   ],
   "source": [
    "# NaN is easier to deal with. Covert None to NaN.\n",
    "df_business = df_business.fillna(value=np.nan)\n",
    "df_business.info()"
   ]
  },
  {
   "cell_type": "code",
   "execution_count": 4,
   "id": "347536a9",
   "metadata": {
    "scrolled": true
   },
   "outputs": [
    {
     "name": "stdout",
     "output_type": "stream",
     "text": [
      "<class 'pandas.core.frame.DataFrame'>\n",
      "RangeIndex: 117618 entries, 0 to 117617\n",
      "Data columns (total 14 columns):\n",
      " #   Column        Non-Null Count   Dtype  \n",
      "---  ------        --------------   -----  \n",
      " 0   business_id   117618 non-null  object \n",
      " 1   name          117618 non-null  object \n",
      " 2   address       117618 non-null  object \n",
      " 3   city          117618 non-null  object \n",
      " 4   state         117618 non-null  object \n",
      " 5   postal_code   117618 non-null  object \n",
      " 6   latitude      117618 non-null  float64\n",
      " 7   longitude     117618 non-null  float64\n",
      " 8   stars         117618 non-null  float64\n",
      " 9   review_count  117618 non-null  int64  \n",
      " 10  is_open       117618 non-null  int64  \n",
      " 11  attributes    117618 non-null  object \n",
      " 12  categories    117618 non-null  object \n",
      " 13  hours         117618 non-null  object \n",
      "dtypes: float64(3), int64(2), object(9)\n",
      "memory usage: 12.6+ MB\n"
     ]
    }
   ],
   "source": [
    "# Drop NaN cases\n",
    "df_business_clean = df_business.dropna(axis = 0).reset_index(drop = True)\n",
    "df_business_clean.info()"
   ]
  },
  {
   "cell_type": "code",
   "execution_count": 5,
   "id": "5fcdbbfc",
   "metadata": {},
   "outputs": [
    {
     "data": {
      "text/html": [
       "<div>\n",
       "<style scoped>\n",
       "    .dataframe tbody tr th:only-of-type {\n",
       "        vertical-align: middle;\n",
       "    }\n",
       "\n",
       "    .dataframe tbody tr th {\n",
       "        vertical-align: top;\n",
       "    }\n",
       "\n",
       "    .dataframe thead th {\n",
       "        text-align: right;\n",
       "    }\n",
       "</style>\n",
       "<table border=\"1\" class=\"dataframe\">\n",
       "  <thead>\n",
       "    <tr style=\"text-align: right;\">\n",
       "      <th></th>\n",
       "      <th>business_id</th>\n",
       "      <th>name</th>\n",
       "      <th>address</th>\n",
       "      <th>city</th>\n",
       "      <th>state</th>\n",
       "      <th>postal_code</th>\n",
       "      <th>latitude</th>\n",
       "      <th>longitude</th>\n",
       "      <th>stars</th>\n",
       "      <th>review_count</th>\n",
       "      <th>is_open</th>\n",
       "      <th>attributes</th>\n",
       "      <th>categories</th>\n",
       "      <th>hours</th>\n",
       "    </tr>\n",
       "  </thead>\n",
       "  <tbody>\n",
       "    <tr>\n",
       "      <th>0</th>\n",
       "      <td>mpf3x-BjTdTEA3yCZrAYPw</td>\n",
       "      <td>The UPS Store</td>\n",
       "      <td>87 Grasso Plaza Shopping Center</td>\n",
       "      <td>Affton</td>\n",
       "      <td>MO</td>\n",
       "      <td>63123</td>\n",
       "      <td>38.551126</td>\n",
       "      <td>-90.335695</td>\n",
       "      <td>3.0</td>\n",
       "      <td>15</td>\n",
       "      <td>1</td>\n",
       "      <td>{'BusinessAcceptsCreditCards': 'True'}</td>\n",
       "      <td>Shipping Centers, Local Services, Notaries, Ma...</td>\n",
       "      <td>{'Monday': '0:0-0:0', 'Tuesday': '8:0-18:30', ...</td>\n",
       "    </tr>\n",
       "    <tr>\n",
       "      <th>1</th>\n",
       "      <td>tUFrWirKiKi_TAnsVWINQQ</td>\n",
       "      <td>Target</td>\n",
       "      <td>5255 E Broadway Blvd</td>\n",
       "      <td>Tucson</td>\n",
       "      <td>AZ</td>\n",
       "      <td>85711</td>\n",
       "      <td>32.223236</td>\n",
       "      <td>-110.880452</td>\n",
       "      <td>3.5</td>\n",
       "      <td>22</td>\n",
       "      <td>0</td>\n",
       "      <td>{'BikeParking': 'True', 'BusinessAcceptsCredit...</td>\n",
       "      <td>Department Stores, Shopping, Fashion, Home &amp; G...</td>\n",
       "      <td>{'Monday': '8:0-22:0', 'Tuesday': '8:0-22:0', ...</td>\n",
       "    </tr>\n",
       "    <tr>\n",
       "      <th>2</th>\n",
       "      <td>MTSW4McQd7CbVtyjqoe9mw</td>\n",
       "      <td>St Honore Pastries</td>\n",
       "      <td>935 Race St</td>\n",
       "      <td>Philadelphia</td>\n",
       "      <td>PA</td>\n",
       "      <td>19107</td>\n",
       "      <td>39.955505</td>\n",
       "      <td>-75.155564</td>\n",
       "      <td>4.0</td>\n",
       "      <td>80</td>\n",
       "      <td>1</td>\n",
       "      <td>{'RestaurantsDelivery': 'False', 'OutdoorSeati...</td>\n",
       "      <td>Restaurants, Food, Bubble Tea, Coffee &amp; Tea, B...</td>\n",
       "      <td>{'Monday': '7:0-20:0', 'Tuesday': '7:0-20:0', ...</td>\n",
       "    </tr>\n",
       "    <tr>\n",
       "      <th>3</th>\n",
       "      <td>mWMc6_wTdE0EUBKIGXDVfA</td>\n",
       "      <td>Perkiomen Valley Brewery</td>\n",
       "      <td>101 Walnut St</td>\n",
       "      <td>Green Lane</td>\n",
       "      <td>PA</td>\n",
       "      <td>18054</td>\n",
       "      <td>40.338183</td>\n",
       "      <td>-75.471659</td>\n",
       "      <td>4.5</td>\n",
       "      <td>13</td>\n",
       "      <td>1</td>\n",
       "      <td>{'BusinessAcceptsCreditCards': 'True', 'Wheelc...</td>\n",
       "      <td>Brewpubs, Breweries, Food</td>\n",
       "      <td>{'Wednesday': '14:0-22:0', 'Thursday': '16:0-2...</td>\n",
       "    </tr>\n",
       "    <tr>\n",
       "      <th>4</th>\n",
       "      <td>CF33F8-E6oudUQ46HnavjQ</td>\n",
       "      <td>Sonic Drive-In</td>\n",
       "      <td>615 S Main St</td>\n",
       "      <td>Ashland City</td>\n",
       "      <td>TN</td>\n",
       "      <td>37015</td>\n",
       "      <td>36.269593</td>\n",
       "      <td>-87.058943</td>\n",
       "      <td>2.0</td>\n",
       "      <td>6</td>\n",
       "      <td>1</td>\n",
       "      <td>{'BusinessParking': 'None', 'BusinessAcceptsCr...</td>\n",
       "      <td>Burgers, Fast Food, Sandwiches, Food, Ice Crea...</td>\n",
       "      <td>{'Monday': '0:0-0:0', 'Tuesday': '6:0-22:0', '...</td>\n",
       "    </tr>\n",
       "  </tbody>\n",
       "</table>\n",
       "</div>"
      ],
      "text/plain": [
       "              business_id                      name  \\\n",
       "0  mpf3x-BjTdTEA3yCZrAYPw             The UPS Store   \n",
       "1  tUFrWirKiKi_TAnsVWINQQ                    Target   \n",
       "2  MTSW4McQd7CbVtyjqoe9mw        St Honore Pastries   \n",
       "3  mWMc6_wTdE0EUBKIGXDVfA  Perkiomen Valley Brewery   \n",
       "4  CF33F8-E6oudUQ46HnavjQ            Sonic Drive-In   \n",
       "\n",
       "                           address          city state postal_code   latitude  \\\n",
       "0  87 Grasso Plaza Shopping Center        Affton    MO       63123  38.551126   \n",
       "1             5255 E Broadway Blvd        Tucson    AZ       85711  32.223236   \n",
       "2                      935 Race St  Philadelphia    PA       19107  39.955505   \n",
       "3                    101 Walnut St    Green Lane    PA       18054  40.338183   \n",
       "4                    615 S Main St  Ashland City    TN       37015  36.269593   \n",
       "\n",
       "    longitude  stars  review_count  is_open  \\\n",
       "0  -90.335695    3.0            15        1   \n",
       "1 -110.880452    3.5            22        0   \n",
       "2  -75.155564    4.0            80        1   \n",
       "3  -75.471659    4.5            13        1   \n",
       "4  -87.058943    2.0             6        1   \n",
       "\n",
       "                                          attributes  \\\n",
       "0             {'BusinessAcceptsCreditCards': 'True'}   \n",
       "1  {'BikeParking': 'True', 'BusinessAcceptsCredit...   \n",
       "2  {'RestaurantsDelivery': 'False', 'OutdoorSeati...   \n",
       "3  {'BusinessAcceptsCreditCards': 'True', 'Wheelc...   \n",
       "4  {'BusinessParking': 'None', 'BusinessAcceptsCr...   \n",
       "\n",
       "                                          categories  \\\n",
       "0  Shipping Centers, Local Services, Notaries, Ma...   \n",
       "1  Department Stores, Shopping, Fashion, Home & G...   \n",
       "2  Restaurants, Food, Bubble Tea, Coffee & Tea, B...   \n",
       "3                          Brewpubs, Breweries, Food   \n",
       "4  Burgers, Fast Food, Sandwiches, Food, Ice Crea...   \n",
       "\n",
       "                                               hours  \n",
       "0  {'Monday': '0:0-0:0', 'Tuesday': '8:0-18:30', ...  \n",
       "1  {'Monday': '8:0-22:0', 'Tuesday': '8:0-22:0', ...  \n",
       "2  {'Monday': '7:0-20:0', 'Tuesday': '7:0-20:0', ...  \n",
       "3  {'Wednesday': '14:0-22:0', 'Thursday': '16:0-2...  \n",
       "4  {'Monday': '0:0-0:0', 'Tuesday': '6:0-22:0', '...  "
      ]
     },
     "execution_count": 5,
     "metadata": {},
     "output_type": "execute_result"
    }
   ],
   "source": [
    "# sanity check\n",
    "df_business_clean.head()"
   ]
  },
  {
   "cell_type": "code",
   "execution_count": 6,
   "id": "b34d2e2e",
   "metadata": {
    "scrolled": false
   },
   "outputs": [],
   "source": [
    "# Create a binary indicator of Vietnamese restaurant (Vietnamese = 1, Others = 0)\n",
    "vietnamese_yn = []\n",
    "for i in range(len(df_business_clean)):\n",
    "    cat = df_business_clean['categories'][i]\n",
    "    if 'Vietnamese' in cat:\n",
    "        vietnamese_yn.append(1)\n",
    "    else:\n",
    "        vietnamese_yn.append(0)"
   ]
  },
  {
   "cell_type": "code",
   "execution_count": 7,
   "id": "6898eb80",
   "metadata": {},
   "outputs": [],
   "source": [
    "# Adding the binary indicator to the cleaned business dataset\n",
    "df_business_clean['vietnamese_yn'] = vietnamese_yn\n",
    "df_viet = df_business_clean[df_business_clean['vietnamese_yn'] == 1]"
   ]
  },
  {
   "cell_type": "code",
   "execution_count": 8,
   "id": "1a30b70d",
   "metadata": {},
   "outputs": [
    {
     "data": {
      "text/plain": [
       "(743, 15)"
      ]
     },
     "execution_count": 8,
     "metadata": {},
     "output_type": "execute_result"
    }
   ],
   "source": [
    "df_viet.shape"
   ]
  },
  {
   "cell_type": "markdown",
   "id": "ef5de862",
   "metadata": {},
   "source": [
    "#### There are X Vietnamese restaurants in total. If including all of these business, corresponding review data will be very large. For now, at model building stage, I will randomly choose 30 Vietnamese restaurants and only analyze corresponding reviews."
   ]
  },
  {
   "cell_type": "code",
   "execution_count": 9,
   "id": "634adb69",
   "metadata": {},
   "outputs": [
    {
     "data": {
      "text/plain": [
       "array(['8kUh6TROemLfbVR_ewVVLg', 'h-xgk0e_WisVzWLUudKgDg',\n",
       "       'NpBIOzibkzTHG56bLdeiAA', 'BGD95aQNLkNcWbmsUFh_Dg',\n",
       "       '6Md7LjLUqf0scKfl78CQDg', 'j5IsoB-xT1Kqp8yQjQnaXA',\n",
       "       'kbeSI3swiGHymmlK2Cznfw', 'q9JGf4DBh2mN5Qo6XPXBeQ',\n",
       "       'p9Dd6AjOawHGGzcUntYr-A', 'VdCIcyn_s63Pxo916vkGvg',\n",
       "       'tqCDj8b0lcRfhLMP9iZ3FA', '41RbEZa99W2d_kTnYTp_mw',\n",
       "       'G5sMILBHK-4Qh9gam6GcAg', 'zM2FiARffKtAW7cO1jer-w',\n",
       "       'ZUPnWlLgqnU1PVtF6Q9-HQ', 'rD5cJ74ZX4UiBo1geRljPw',\n",
       "       '4iB7FxO5-8EVLKPOm579Nw', '3d-CfM2eT_Rn3N5FbExHHA',\n",
       "       'yYGCoJfHANvtOZ7e51FU5g', 'txHjMRDgOEnqsvJi0qCKHA',\n",
       "       'c8kCy8ZwXaOhOgPbFLa4ow', 'e_9qxd4k6z58I9-b3vBxBA',\n",
       "       '1xF6JoMExE6-7RowriRazA', 'PzhPMkaNYiKDTHoTG0r8rw',\n",
       "       'NUVPGowRmfN1NkecJB6R2Q', 'CQD7-sfUiADa6KyTYJT2NQ',\n",
       "       'qtlDqYE5Dnn-lztBw4qXrg', 'Po3aZ9CLemP2E9PeovySPQ',\n",
       "       'dTDBXOnGK0w96L79P92AbA', 'cw2QlnunGxprse--SmlPuA'], dtype=object)"
      ]
     },
     "execution_count": 9,
     "metadata": {},
     "output_type": "execute_result"
    }
   ],
   "source": [
    "# Obtained business id of randomly selected 30 Vietnamese restaurants\n",
    "business_id_list = df_viet['business_id'].sample(30, random_state = 1).values\n",
    "business_id_list"
   ]
  },
  {
   "cell_type": "code",
   "execution_count": 10,
   "id": "2013f14d",
   "metadata": {},
   "outputs": [],
   "source": [
    "# Create a binary indicator for the sampled reviews (Included in the sample = 1, Not included = 0)\n",
    "sample_yn = []\n",
    "for i in range(len(df_review)):\n",
    "    if df_review['business_id'][i] in business_id_list:\n",
    "        sample_yn.append(1)\n",
    "    else:\n",
    "        sample_yn.append(0)"
   ]
  },
  {
   "cell_type": "code",
   "execution_count": 11,
   "id": "2e69e227",
   "metadata": {},
   "outputs": [],
   "source": [
    "# Adding the binary indicator to the review dataset\n",
    "df_review['sample_yn'] = sample_yn\n",
    "# Extracting reviews of the sampled business based on the binary indicator\n",
    "sample_review = df_review[df_review['sample_yn'] == 1]"
   ]
  },
  {
   "cell_type": "code",
   "execution_count": 12,
   "id": "a3951efb",
   "metadata": {
    "scrolled": false
   },
   "outputs": [
    {
     "data": {
      "text/html": [
       "<div>\n",
       "<style scoped>\n",
       "    .dataframe tbody tr th:only-of-type {\n",
       "        vertical-align: middle;\n",
       "    }\n",
       "\n",
       "    .dataframe tbody tr th {\n",
       "        vertical-align: top;\n",
       "    }\n",
       "\n",
       "    .dataframe thead th {\n",
       "        text-align: right;\n",
       "    }\n",
       "</style>\n",
       "<table border=\"1\" class=\"dataframe\">\n",
       "  <thead>\n",
       "    <tr style=\"text-align: right;\">\n",
       "      <th></th>\n",
       "      <th>review_id</th>\n",
       "      <th>user_id</th>\n",
       "      <th>business_id</th>\n",
       "      <th>stars</th>\n",
       "      <th>useful</th>\n",
       "      <th>funny</th>\n",
       "      <th>cool</th>\n",
       "      <th>date</th>\n",
       "      <th>sample_yn</th>\n",
       "    </tr>\n",
       "  </thead>\n",
       "  <tbody>\n",
       "    <tr>\n",
       "      <th>68</th>\n",
       "      <td>fGYcFOHfQL4stYPdD3J47g</td>\n",
       "      <td>CgyCtH9CbLO7J_uO3cL7OA</td>\n",
       "      <td>PzhPMkaNYiKDTHoTG0r8rw</td>\n",
       "      <td>4.0</td>\n",
       "      <td>0</td>\n",
       "      <td>0</td>\n",
       "      <td>0</td>\n",
       "      <td>2016-09-18 22:43:18</td>\n",
       "      <td>1</td>\n",
       "    </tr>\n",
       "    <tr>\n",
       "      <th>3913</th>\n",
       "      <td>EwkeL8nm4vug3htgi0ZbsQ</td>\n",
       "      <td>_exJkgTPirjUjEUbQju2ow</td>\n",
       "      <td>PzhPMkaNYiKDTHoTG0r8rw</td>\n",
       "      <td>5.0</td>\n",
       "      <td>0</td>\n",
       "      <td>0</td>\n",
       "      <td>0</td>\n",
       "      <td>2017-04-19 12:34:20</td>\n",
       "      <td>1</td>\n",
       "    </tr>\n",
       "    <tr>\n",
       "      <th>4148</th>\n",
       "      <td>KRowK5RRz8IF2auM-8ROSw</td>\n",
       "      <td>zEuTnMbf5IEQ1TiEGWHVQg</td>\n",
       "      <td>PzhPMkaNYiKDTHoTG0r8rw</td>\n",
       "      <td>3.0</td>\n",
       "      <td>0</td>\n",
       "      <td>0</td>\n",
       "      <td>0</td>\n",
       "      <td>2018-09-03 02:20:28</td>\n",
       "      <td>1</td>\n",
       "    </tr>\n",
       "    <tr>\n",
       "      <th>5487</th>\n",
       "      <td>66KUpAcnKRA3BB_BNSgjpw</td>\n",
       "      <td>X3APf4FSiOYg4BB6sdhJPw</td>\n",
       "      <td>PzhPMkaNYiKDTHoTG0r8rw</td>\n",
       "      <td>5.0</td>\n",
       "      <td>1</td>\n",
       "      <td>0</td>\n",
       "      <td>0</td>\n",
       "      <td>2018-07-07 22:45:43</td>\n",
       "      <td>1</td>\n",
       "    </tr>\n",
       "    <tr>\n",
       "      <th>6288</th>\n",
       "      <td>fFFHTE0tY1OFqV50Iiy92Q</td>\n",
       "      <td>CQW0mI3IXtOeVv5TNDuuhw</td>\n",
       "      <td>PzhPMkaNYiKDTHoTG0r8rw</td>\n",
       "      <td>5.0</td>\n",
       "      <td>0</td>\n",
       "      <td>0</td>\n",
       "      <td>0</td>\n",
       "      <td>2015-11-06 00:36:28</td>\n",
       "      <td>1</td>\n",
       "    </tr>\n",
       "  </tbody>\n",
       "</table>\n",
       "</div>"
      ],
      "text/plain": [
       "                   review_id                 user_id             business_id  \\\n",
       "68    fGYcFOHfQL4stYPdD3J47g  CgyCtH9CbLO7J_uO3cL7OA  PzhPMkaNYiKDTHoTG0r8rw   \n",
       "3913  EwkeL8nm4vug3htgi0ZbsQ  _exJkgTPirjUjEUbQju2ow  PzhPMkaNYiKDTHoTG0r8rw   \n",
       "4148  KRowK5RRz8IF2auM-8ROSw  zEuTnMbf5IEQ1TiEGWHVQg  PzhPMkaNYiKDTHoTG0r8rw   \n",
       "5487  66KUpAcnKRA3BB_BNSgjpw  X3APf4FSiOYg4BB6sdhJPw  PzhPMkaNYiKDTHoTG0r8rw   \n",
       "6288  fFFHTE0tY1OFqV50Iiy92Q  CQW0mI3IXtOeVv5TNDuuhw  PzhPMkaNYiKDTHoTG0r8rw   \n",
       "\n",
       "      stars  useful  funny  cool                 date  sample_yn  \n",
       "68      4.0       0      0     0  2016-09-18 22:43:18          1  \n",
       "3913    5.0       0      0     0  2017-04-19 12:34:20          1  \n",
       "4148    3.0       0      0     0  2018-09-03 02:20:28          1  \n",
       "5487    5.0       1      0     0  2018-07-07 22:45:43          1  \n",
       "6288    5.0       0      0     0  2015-11-06 00:36:28          1  "
      ]
     },
     "execution_count": 12,
     "metadata": {},
     "output_type": "execute_result"
    }
   ],
   "source": [
    "# sanity check\n",
    "sample_review.head()"
   ]
  },
  {
   "cell_type": "code",
   "execution_count": 13,
   "id": "8f77462c",
   "metadata": {
    "scrolled": true
   },
   "outputs": [
    {
     "data": {
      "text/plain": [
       "3696"
      ]
     },
     "execution_count": 13,
     "metadata": {},
     "output_type": "execute_result"
    }
   ],
   "source": [
    "# Check the number of reviews included\n",
    "sample_review.shape[0]"
   ]
  },
  {
   "cell_type": "markdown",
   "id": "193456f0",
   "metadata": {},
   "source": [
    "#### The sample_review dataset does not include text of review. Review text of selected business should be extracted from the raw review data. The raw review data is extremely large, hence cannot be imported together. Instead, data will be read line by line and reviews from the selected business will be appended to the review test list."
   ]
  },
  {
   "cell_type": "code",
   "execution_count": 14,
   "id": "a5871673",
   "metadata": {},
   "outputs": [
    {
     "data": {
      "text/plain": [
       "36.54101920127869"
      ]
     },
     "execution_count": 14,
     "metadata": {},
     "output_type": "execute_result"
    }
   ],
   "source": [
    "import time\n",
    "start_time = time.time()\n",
    "\n",
    "review_txt = []\n",
    "with open(\"yelp_academic_dataset_review.json\", \"r\") as f:\n",
    "    for line in f.readlines():\n",
    "        review = json.loads(line) # current line of the original data that has been read\n",
    "        if review['business_id'] in business_id_list:\n",
    "            review_txt.append(review['text'])\n",
    "        #r += 1\n",
    "        #print(r)\n",
    "\n",
    "end_time = time.time()\n",
    "end_time - start_time "
   ]
  },
  {
   "cell_type": "code",
   "execution_count": 15,
   "id": "b65a500c",
   "metadata": {},
   "outputs": [
    {
     "name": "stderr",
     "output_type": "stream",
     "text": [
      "/var/folders/nj/f9znvfvs4znf7d4g_hm9z7nm0000gn/T/ipykernel_57314/1478755974.py:2: SettingWithCopyWarning: \n",
      "A value is trying to be set on a copy of a slice from a DataFrame.\n",
      "Try using .loc[row_indexer,col_indexer] = value instead\n",
      "\n",
      "See the caveats in the documentation: https://pandas.pydata.org/pandas-docs/stable/user_guide/indexing.html#returning-a-view-versus-a-copy\n",
      "  sample_review['text'] = review_txt\n"
     ]
    }
   ],
   "source": [
    "# Append the text of review to the review data\n",
    "sample_review['text'] = review_txt"
   ]
  },
  {
   "cell_type": "code",
   "execution_count": 16,
   "id": "d7134f41",
   "metadata": {
    "scrolled": false
   },
   "outputs": [
    {
     "data": {
      "text/html": [
       "<div>\n",
       "<style scoped>\n",
       "    .dataframe tbody tr th:only-of-type {\n",
       "        vertical-align: middle;\n",
       "    }\n",
       "\n",
       "    .dataframe tbody tr th {\n",
       "        vertical-align: top;\n",
       "    }\n",
       "\n",
       "    .dataframe thead th {\n",
       "        text-align: right;\n",
       "    }\n",
       "</style>\n",
       "<table border=\"1\" class=\"dataframe\">\n",
       "  <thead>\n",
       "    <tr style=\"text-align: right;\">\n",
       "      <th></th>\n",
       "      <th>review_id</th>\n",
       "      <th>user_id</th>\n",
       "      <th>business_id</th>\n",
       "      <th>stars</th>\n",
       "      <th>useful</th>\n",
       "      <th>funny</th>\n",
       "      <th>cool</th>\n",
       "      <th>date</th>\n",
       "      <th>sample_yn</th>\n",
       "      <th>text</th>\n",
       "    </tr>\n",
       "  </thead>\n",
       "  <tbody>\n",
       "    <tr>\n",
       "      <th>68</th>\n",
       "      <td>fGYcFOHfQL4stYPdD3J47g</td>\n",
       "      <td>CgyCtH9CbLO7J_uO3cL7OA</td>\n",
       "      <td>PzhPMkaNYiKDTHoTG0r8rw</td>\n",
       "      <td>4.0</td>\n",
       "      <td>0</td>\n",
       "      <td>0</td>\n",
       "      <td>0</td>\n",
       "      <td>2016-09-18 22:43:18</td>\n",
       "      <td>1</td>\n",
       "      <td>After 3 weeks of working in the area I finally...</td>\n",
       "    </tr>\n",
       "    <tr>\n",
       "      <th>3913</th>\n",
       "      <td>EwkeL8nm4vug3htgi0ZbsQ</td>\n",
       "      <td>_exJkgTPirjUjEUbQju2ow</td>\n",
       "      <td>PzhPMkaNYiKDTHoTG0r8rw</td>\n",
       "      <td>5.0</td>\n",
       "      <td>0</td>\n",
       "      <td>0</td>\n",
       "      <td>0</td>\n",
       "      <td>2017-04-19 12:34:20</td>\n",
       "      <td>1</td>\n",
       "      <td>Soup was fresh spicy and delicious! Wish it wa...</td>\n",
       "    </tr>\n",
       "    <tr>\n",
       "      <th>4148</th>\n",
       "      <td>KRowK5RRz8IF2auM-8ROSw</td>\n",
       "      <td>zEuTnMbf5IEQ1TiEGWHVQg</td>\n",
       "      <td>PzhPMkaNYiKDTHoTG0r8rw</td>\n",
       "      <td>3.0</td>\n",
       "      <td>0</td>\n",
       "      <td>0</td>\n",
       "      <td>0</td>\n",
       "      <td>2018-09-03 02:20:28</td>\n",
       "      <td>1</td>\n",
       "      <td>A pho place that checks all the boxes but does...</td>\n",
       "    </tr>\n",
       "    <tr>\n",
       "      <th>5487</th>\n",
       "      <td>66KUpAcnKRA3BB_BNSgjpw</td>\n",
       "      <td>X3APf4FSiOYg4BB6sdhJPw</td>\n",
       "      <td>PzhPMkaNYiKDTHoTG0r8rw</td>\n",
       "      <td>5.0</td>\n",
       "      <td>1</td>\n",
       "      <td>0</td>\n",
       "      <td>0</td>\n",
       "      <td>2018-07-07 22:45:43</td>\n",
       "      <td>1</td>\n",
       "      <td>Steamed buns for the adults. Beef &amp; Broccoli f...</td>\n",
       "    </tr>\n",
       "    <tr>\n",
       "      <th>6288</th>\n",
       "      <td>fFFHTE0tY1OFqV50Iiy92Q</td>\n",
       "      <td>CQW0mI3IXtOeVv5TNDuuhw</td>\n",
       "      <td>PzhPMkaNYiKDTHoTG0r8rw</td>\n",
       "      <td>5.0</td>\n",
       "      <td>0</td>\n",
       "      <td>0</td>\n",
       "      <td>0</td>\n",
       "      <td>2015-11-06 00:36:28</td>\n",
       "      <td>1</td>\n",
       "      <td>The spicy beef pho is wonderful. The broth is ...</td>\n",
       "    </tr>\n",
       "  </tbody>\n",
       "</table>\n",
       "</div>"
      ],
      "text/plain": [
       "                   review_id                 user_id             business_id  \\\n",
       "68    fGYcFOHfQL4stYPdD3J47g  CgyCtH9CbLO7J_uO3cL7OA  PzhPMkaNYiKDTHoTG0r8rw   \n",
       "3913  EwkeL8nm4vug3htgi0ZbsQ  _exJkgTPirjUjEUbQju2ow  PzhPMkaNYiKDTHoTG0r8rw   \n",
       "4148  KRowK5RRz8IF2auM-8ROSw  zEuTnMbf5IEQ1TiEGWHVQg  PzhPMkaNYiKDTHoTG0r8rw   \n",
       "5487  66KUpAcnKRA3BB_BNSgjpw  X3APf4FSiOYg4BB6sdhJPw  PzhPMkaNYiKDTHoTG0r8rw   \n",
       "6288  fFFHTE0tY1OFqV50Iiy92Q  CQW0mI3IXtOeVv5TNDuuhw  PzhPMkaNYiKDTHoTG0r8rw   \n",
       "\n",
       "      stars  useful  funny  cool                 date  sample_yn  \\\n",
       "68      4.0       0      0     0  2016-09-18 22:43:18          1   \n",
       "3913    5.0       0      0     0  2017-04-19 12:34:20          1   \n",
       "4148    3.0       0      0     0  2018-09-03 02:20:28          1   \n",
       "5487    5.0       1      0     0  2018-07-07 22:45:43          1   \n",
       "6288    5.0       0      0     0  2015-11-06 00:36:28          1   \n",
       "\n",
       "                                                   text  \n",
       "68    After 3 weeks of working in the area I finally...  \n",
       "3913  Soup was fresh spicy and delicious! Wish it wa...  \n",
       "4148  A pho place that checks all the boxes but does...  \n",
       "5487  Steamed buns for the adults. Beef & Broccoli f...  \n",
       "6288  The spicy beef pho is wonderful. The broth is ...  "
      ]
     },
     "execution_count": 16,
     "metadata": {},
     "output_type": "execute_result"
    }
   ],
   "source": [
    "# sanity check\n",
    "sample_review.head()"
   ]
  },
  {
   "cell_type": "code",
   "execution_count": 17,
   "id": "ba61139c",
   "metadata": {},
   "outputs": [
    {
     "data": {
      "text/plain": [
       "['sample_review.py']"
      ]
     },
     "execution_count": 17,
     "metadata": {},
     "output_type": "execute_result"
    }
   ],
   "source": [
    "# Store the sampled review as joblib object\n",
    "joblib.dump(sample_review, 'sample_review.py') "
   ]
  }
 ],
 "metadata": {
  "kernelspec": {
   "display_name": "Python 3 (ipykernel)",
   "language": "python",
   "name": "python3"
  },
  "language_info": {
   "codemirror_mode": {
    "name": "ipython",
    "version": 3
   },
   "file_extension": ".py",
   "mimetype": "text/x-python",
   "name": "python",
   "nbconvert_exporter": "python",
   "pygments_lexer": "ipython3",
   "version": "3.10.9"
  }
 },
 "nbformat": 4,
 "nbformat_minor": 5
}
